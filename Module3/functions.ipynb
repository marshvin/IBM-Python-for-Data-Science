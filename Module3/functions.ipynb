{
 "cells": [
  {
   "cell_type": "code",
   "execution_count": 1,
   "id": "23dfe0f2",
   "metadata": {},
   "outputs": [
    {
     "name": "stdout",
     "output_type": "stream",
     "text": [
      "4\n"
     ]
    }
   ],
   "source": [
    "#Python functions\n",
    "#Built-in functions\n",
    "#len\n",
    "l=[10,5,7,6]\n",
    "print(len(l))"
   ]
  },
  {
   "cell_type": "code",
   "execution_count": 5,
   "id": "0f825612",
   "metadata": {},
   "outputs": [
    {
     "name": "stdout",
     "output_type": "stream",
     "text": [
      "27\n"
     ]
    }
   ],
   "source": [
    "#Python functions\n",
    "#Built-in functions\n",
    "#sum\n",
    "T= (5,1,7,6,8)\n",
    "print(sum(T))"
   ]
  },
  {
   "cell_type": "code",
   "execution_count": 6,
   "id": "131b8eca",
   "metadata": {},
   "outputs": [
    {
     "name": "stdout",
     "output_type": "stream",
     "text": [
      "[2.1, 4.0, 5.6, 7.8, 8.0, 8.8]\n"
     ]
    }
   ],
   "source": [
    "#Python functions\n",
    "#Built-in functions\n",
    "#Sorted\n",
    "l=[5.6,7.8,4.0,2.1,8.0,8.8]\n",
    "print(sorted(l))"
   ]
  },
  {
   "cell_type": "code",
   "execution_count": 9,
   "id": "9b9a4c41",
   "metadata": {},
   "outputs": [
    {
     "name": "stdout",
     "output_type": "stream",
     "text": [
      "[2.1, 4.0, 5.6, 7.8, 8.0, 8.8]\n"
     ]
    }
   ],
   "source": [
    "#Python functions\n",
    "#Built-in functions\n",
    "#Sort\n",
    "l=[5.6,7.8,4.0,2.1,8.0,8.8]\n",
    "l.sort()\n",
    "print(l)"
   ]
  },
  {
   "cell_type": "code",
   "execution_count": 11,
   "id": "a8fac583",
   "metadata": {},
   "outputs": [
    {
     "data": {
      "text/plain": [
       "12"
      ]
     },
     "execution_count": 11,
     "metadata": {},
     "output_type": "execute_result"
    }
   ],
   "source": [
    "#Python functions\n",
    "#Making functions\n",
    "def add(b):\n",
    "    c=b+6\n",
    "    return c\n",
    "add(5)\n",
    "add(6)"
   ]
  },
  {
   "cell_type": "code",
   "execution_count": 23,
   "id": "7029e42d",
   "metadata": {},
   "outputs": [
    {
     "data": {
      "text/plain": [
       "65"
      ]
     },
     "execution_count": 23,
     "metadata": {},
     "output_type": "execute_result"
    }
   ],
   "source": [
    "#Python functions\n",
    "#Making functions\n",
    "def diff(a,b,c):\n",
    "    \"\"\"\n",
    "    find the difference of three numbers\n",
    "    \"\"\"\n",
    "    d=a-b-c\n",
    "    return d\n",
    "    help(diff)\n",
    "diff(90,10,15)"
   ]
  },
  {
   "cell_type": "code",
   "execution_count": 26,
   "id": "6429eb9a",
   "metadata": {},
   "outputs": [
    {
     "name": "stdout",
     "output_type": "stream",
     "text": [
      "None\n"
     ]
    }
   ],
   "source": [
    "#Python functions\n",
    "#Making functions\n",
    "def Nowork():\n",
    "    pass\n",
    "print(Nowork())\n",
    "Nowork()"
   ]
  },
  {
   "cell_type": "code",
   "execution_count": 29,
   "id": "2bd2479d",
   "metadata": {},
   "outputs": [
    {
     "name": "stdout",
     "output_type": "stream",
     "text": [
      "Album 0 is in index 5\n",
      "Album 1 is in index 7\n",
      "Album 2 is in index 9\n",
      "Album 3 is in index 1\n"
     ]
    }
   ],
   "source": [
    "#Python functions\n",
    "#Making functions\n",
    "#enumerate\n",
    "def indexingstuff(stuff):\n",
    "    for i,s in enumerate(stuff):\n",
    "        print('Album',i,'is in index',s)\n",
    "album=[5,7,9,1]\n",
    "indexingstuff(album)\n"
   ]
  },
  {
   "cell_type": "code",
   "execution_count": 33,
   "id": "f7b558ff",
   "metadata": {},
   "outputs": [],
   "source": [
    "#Python functions\n",
    "#Making functions\n",
    "#Global scope\n",
    "def scholar(y):\n",
    "    b=x+'me'\n",
    "    \n",
    "    return b\n",
    "x='That is'\n"
   ]
  }
 ],
 "metadata": {
  "kernelspec": {
   "display_name": "Python 3 (ipykernel)",
   "language": "python",
   "name": "python3"
  },
  "language_info": {
   "codemirror_mode": {
    "name": "ipython",
    "version": 3
   },
   "file_extension": ".py",
   "mimetype": "text/x-python",
   "name": "python",
   "nbconvert_exporter": "python",
   "pygments_lexer": "ipython3",
   "version": "3.10.7"
  }
 },
 "nbformat": 4,
 "nbformat_minor": 5
}
