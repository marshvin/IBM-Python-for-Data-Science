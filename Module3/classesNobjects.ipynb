{
 "cells": [
  {
   "cell_type": "code",
   "execution_count": 4,
   "id": "a487c760",
   "metadata": {},
   "outputs": [],
   "source": [
    "#Classes and Objects\n",
    "class Cicrle(object): #Define class\n",
    "    def _init_(self,radius,color): #special method or constructor to initialize data attributes\n",
    "        \"\"\"\n",
    "        Data Atrributes below\n",
    "        \"\"\"\n",
    "        self.radius=radius;\n",
    "        self.color=color;"
   ]
  },
  {
   "cell_type": "code",
   "execution_count": 5,
   "id": "cb7a7d22",
   "metadata": {},
   "outputs": [
    {
     "ename": "SyntaxError",
     "evalue": "incomplete input (4085801282.py, line 5)",
     "output_type": "error",
     "traceback": [
      "\u001b[1;36m  Cell \u001b[1;32mIn [5], line 5\u001b[1;36m\u001b[0m\n\u001b[1;33m    \u001b[0m\n\u001b[1;37m    ^\u001b[0m\n\u001b[1;31mSyntaxError\u001b[0m\u001b[1;31m:\u001b[0m incomplete input\n"
     ]
    }
   ],
   "source": [
    "#Classes and Objects\n",
    "#Creating an object\n",
    "class Cicrle(object): #Define class\n",
    "    def _init_(self,radius,color):\n",
    "        "
   ]
  },
  {
   "cell_type": "code",
   "execution_count": null,
   "id": "aa7388c7",
   "metadata": {},
   "outputs": [
    {
     "name": "stdout",
     "output_type": "stream",
     "text": [
      "Hello, my name is Nikhil\n"
     ]
    }
   ],
   "source": [
    "#Classes and Objects\n",
    "# Sample class with init method\n",
    "class Person:\n",
    " \n",
    "    # init method or constructor\n",
    "    def __init__(self, name):\n",
    "        self.name = name\n",
    " \n",
    "    # Sample Method\n",
    "    def say_hi(self):\n",
    "        print('Hello, my name is', self.name)\n",
    " \n",
    " \n",
    "p = Person('Nikhil')\n",
    "p.say_hi()"
   ]
  },
  {
   "cell_type": "code",
   "execution_count": null,
   "id": "105c424c",
   "metadata": {},
   "outputs": [
    {
     "name": "stdout",
     "output_type": "stream",
     "text": [
      "Mercedes Vehicle:\n",
      "The color is: Black\n",
      "The Model is: Maybach\n",
      "Toyota Vehicle:\n",
      "The color is: Grey\n",
      "The Model is: Lexus\n"
     ]
    }
   ],
   "source": [
    "#Classes and Objects\n",
    "class vehicles:\n",
    "    def __init__(self, color, model):\n",
    "        self.color=color\n",
    "        self.model=model\n",
    "        \n",
    "Mercedes = vehicles(\"Black\",\"Maybach\")\n",
    "Toyota = vehicles(\"Grey\",\"Lexus\")\n",
    "\n",
    "print(\"Mercedes Vehicle:\")\n",
    "print(\"The color is:\" ,Mercedes.color)\n",
    "print(\"The Model is:\",Mercedes.model)\n",
    "\n",
    "print(\"Toyota Vehicle:\")\n",
    "print(\"The color is:\" ,Toyota.color)\n",
    "print(\"The Model is:\",Toyota.model)\n"
   ]
  },
  {
   "cell_type": "code",
   "execution_count": null,
   "id": "512b7aa2",
   "metadata": {},
   "outputs": [
    {
     "name": "stdout",
     "output_type": "stream",
     "text": [
      "brown\n"
     ]
    }
   ],
   "source": [
    "class Dog:\n",
    " \n",
    "    # Class Variable\n",
    "    animal = 'dog'\n",
    " \n",
    "    # The init method or constructor\n",
    "    def __init__(self, breed):\n",
    " \n",
    "        # Instance Variable\n",
    "        self.breed = breed\n",
    " \n",
    "    # Adds an instance variable\n",
    "    def setColor(self, color):\n",
    "        self.color = color\n",
    " \n",
    "    # Retrieves instance variable\n",
    "    def getColor(self):\n",
    "        return self.color\n",
    " \n",
    " \n",
    "# Driver Code\n",
    "Rodger = Dog(\"pug\")\n",
    "Rodger.setColor(\"brown\")\n",
    "print(Rodger.getColor())"
   ]
  },
  {
   "cell_type": "code",
   "execution_count": 13,
   "id": "b27a7f9c",
   "metadata": {},
   "outputs": [
    {
     "data": {
      "text/plain": [
       "7"
      ]
     },
     "execution_count": 13,
     "metadata": {},
     "output_type": "execute_result"
    }
   ],
   "source": [
    "class circle:\n",
    "\n",
    "    def __init__(self,radius,color):\n",
    "        self.radius=radius\n",
    "        self.color=color\n",
    "\n",
    "    def add_radius(self,r):\n",
    "        self.radius= self.radius +r \n",
    "        return(self.radius)\n",
    "c1= circle(2,'red')\n",
    "c1.add_radius(5)\n"
   ]
  },
  {
   "cell_type": "code",
   "execution_count": 9,
   "id": "cff36ecd",
   "metadata": {},
   "outputs": [
    {
     "name": "stdout",
     "output_type": "stream",
     "text": [
      "Hello, my name is Nikhil\n"
     ]
    }
   ],
   "source": [
    "\n",
    "# Sample class with init method\n",
    "class Person:\n",
    " \n",
    "    # init method or constructor\n",
    "    def __init__(self, name):\n",
    "        self.name = name\n",
    " \n",
    "    # Sample Method\n",
    "    def say_hi(self):\n",
    "        print('Hello, my name is', self.name)\n",
    " \n",
    " \n",
    "p = Person('Nikhil')\n",
    "p.say_hi()"
   ]
  }
 ],
 "metadata": {
  "kernelspec": {
   "display_name": "Python 3.10.7 64-bit",
   "language": "python",
   "name": "python3"
  },
  "language_info": {
   "codemirror_mode": {
    "name": "ipython",
    "version": 3
   },
   "file_extension": ".py",
   "mimetype": "text/x-python",
   "name": "python",
   "nbconvert_exporter": "python",
   "pygments_lexer": "ipython3",
   "version": "3.10.7"
  },
  "vscode": {
   "interpreter": {
    "hash": "81794d4967e6c3204c66dcd87b604927b115b27c00565d3d43f05ba2f3a2cb0d"
   }
  }
 },
 "nbformat": 4,
 "nbformat_minor": 5
}
