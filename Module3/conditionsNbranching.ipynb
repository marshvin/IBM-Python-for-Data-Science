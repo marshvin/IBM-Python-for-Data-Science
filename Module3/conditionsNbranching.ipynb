{
 "cells": [
  {
   "cell_type": "code",
   "execution_count": 3,
   "id": "46e08040",
   "metadata": {},
   "outputs": [
    {
     "name": "stdout",
     "output_type": "stream",
     "text": [
      "False\n"
     ]
    }
   ],
   "source": [
    "#Comparison Operators\n",
    "a=5\n",
    "b=8\n",
    "print(bool(a==b))"
   ]
  },
  {
   "cell_type": "code",
   "execution_count": 4,
   "id": "13e27c72",
   "metadata": {},
   "outputs": [
    {
     "name": "stdout",
     "output_type": "stream",
     "text": [
      "True\n"
     ]
    }
   ],
   "source": [
    "#Comparison Operators\n",
    "a=2\n",
    "b=3\n",
    "print(bool(a!=b))"
   ]
  },
  {
   "cell_type": "code",
   "execution_count": 5,
   "id": "f7f22986",
   "metadata": {},
   "outputs": [
    {
     "name": "stdout",
     "output_type": "stream",
     "text": [
      "False\n"
     ]
    }
   ],
   "source": [
    "a='ACND'\n",
    "b='Vincent Marsh'\n",
    "print(bool(a==b))"
   ]
  },
  {
   "cell_type": "code",
   "execution_count": 30,
   "id": "c4e86a34",
   "metadata": {},
   "outputs": [
    {
     "name": "stdout",
     "output_type": "stream",
     "text": [
      "Underage\n"
     ]
    }
   ],
   "source": [
    "#Branching\n",
    "#If Statement\n",
    "age=17\n",
    "if (age>17):\n",
    "    print(\"Proceed\")\n",
    "else:\n",
    "    print(\"Underage\")\n",
    "  "
   ]
  },
  {
   "cell_type": "code",
   "execution_count": 38,
   "id": "314e45bd",
   "metadata": {},
   "outputs": [
    {
     "name": "stdout",
     "output_type": "stream",
     "text": [
      "Underage\n"
     ]
    }
   ],
   "source": [
    "#Branching\n",
    "#elseif Statement\n",
    "age=17\n",
    "if (age>17 ):\n",
    "    print(\"Proceed\")\n",
    "elif(age<=18):\n",
    "    print(\"Underage\")\n",
    "else:\n",
    "    print(\"Unknown\")"
   ]
  },
  {
   "cell_type": "code",
   "execution_count": 5,
   "id": "324c4660",
   "metadata": {},
   "outputs": [
    {
     "name": "stdout",
     "output_type": "stream",
     "text": [
      "They are not equal\n"
     ]
    }
   ],
   "source": [
    "#logical operators\n",
    "#logic 'AND'- Only TRUE if all conditions are True else False\n",
    "a=5\n",
    "b=7\n",
    "c=5\n",
    "if a==5 and b==5 and c==5:\n",
    "    print('They have the same value')\n",
    "else:\n",
    "    print(\"They are not equal\")\n"
   ]
  },
  {
   "cell_type": "code",
   "execution_count": 8,
   "id": "e2a6143c",
   "metadata": {},
   "outputs": [
    {
     "name": "stdout",
     "output_type": "stream",
     "text": [
      "Either of the number is greater than 0\n",
      "No number is greater than 0\n"
     ]
    }
   ],
   "source": [
    "#logical operators\n",
    "#logic 'OR' -returns True if either of the operands is True.\n",
    "a = 80\n",
    "b = -100\n",
    "c = 0\n",
    "if a > 0 or b > 0:\n",
    "    print(\"Either of the number is greater than 0\")\n",
    "else:\n",
    "    print(\"No number is greater than 0\") \n",
    "if b > 0 or c > 0:\n",
    "    print(\"Either of the number is greater than 0\")\n",
    "else:\n",
    "    print(\"No number is greater than 0\")"
   ]
  },
  {
   "cell_type": "code",
   "execution_count": 9,
   "id": "7184c725",
   "metadata": {},
   "outputs": [
    {
     "name": "stdout",
     "output_type": "stream",
     "text": [
      "10 is divisible by either 3 or 5\n"
     ]
    }
   ],
   "source": [
    "#logical NOT -  If the boolean value is True it returns False and vice-versa.\n",
    "a = 10\n",
    "  \n",
    "if not a:\n",
    "    print(\"Boolean value of a is True\")  \n",
    "if not (a%3 == 0 or a%5 == 0):\n",
    "    print(\"10 is not divisible by either 3 or 5\")\n",
    "else:\n",
    "    print(\"10 is divisible by either 3 or 5\")"
   ]
  }
 ],
 "metadata": {
  "kernelspec": {
   "display_name": "Python 3 (ipykernel)",
   "language": "python",
   "name": "python3"
  },
  "language_info": {
   "codemirror_mode": {
    "name": "ipython",
    "version": 3
   },
   "file_extension": ".py",
   "mimetype": "text/x-python",
   "name": "python",
   "nbconvert_exporter": "python",
   "pygments_lexer": "ipython3",
   "version": "3.10.7"
  }
 },
 "nbformat": 4,
 "nbformat_minor": 5
}
