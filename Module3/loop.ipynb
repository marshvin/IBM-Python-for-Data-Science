{
 "cells": [
  {
   "cell_type": "code",
   "execution_count": 1,
   "id": "0ef2fcf8",
   "metadata": {},
   "outputs": [
    {
     "name": "stdout",
     "output_type": "stream",
     "text": [
      "Hello Geek 1\n",
      "Hello Geek 2\n",
      "Hello Geek 3\n",
      "Out of loop\n"
     ]
    }
   ],
   "source": [
    "#While loop\n",
    "count = 0\n",
    "while (count < 3):   \n",
    "    count = count + 1\n",
    "    print(\"Hello Geek\",count)\n",
    "else:\n",
    "    print(\"Out of loop\")"
   ]
  },
  {
   "cell_type": "code",
   "execution_count": 14,
   "id": "9df23a53",
   "metadata": {},
   "outputs": [
    {
     "name": "stdout",
     "output_type": "stream",
     "text": [
      "0\n",
      "1\n",
      "2\n",
      "3\n",
      "4\n",
      "5\n"
     ]
    }
   ],
   "source": [
    "#For loop - it uses 'for in'\n",
    "n=6\n",
    "for n in range(0, n):\n",
    "    print(n)"
   ]
  },
  {
   "cell_type": "code",
   "execution_count": 25,
   "id": "96f68a44",
   "metadata": {},
   "outputs": [
    {
     "name": "stdout",
     "output_type": "stream",
     "text": [
      "red\n",
      "blue\n",
      "Yellow\n",
      "Brown\n"
     ]
    }
   ],
   "source": [
    "#For loop - it uses 'for in'\n",
    "n=['red','blue','Yellow','Brown']\n",
    "for a in n:\n",
    "    print(a)"
   ]
  },
  {
   "cell_type": "code",
   "execution_count": 26,
   "id": "49601c40",
   "metadata": {},
   "outputs": [
    {
     "name": "stdout",
     "output_type": "stream",
     "text": [
      "[(0, 'eat'), (1, 'sleep'), (2, 'repeat')]\n"
     ]
    }
   ],
   "source": [
    "#Enumerate()\n",
    "l1 = [\"eat\", \"sleep\", \"repeat\"]\n",
    "print (list(enumerate(l1)))"
   ]
  }
 ],
 "metadata": {
  "kernelspec": {
   "display_name": "Python 3 (ipykernel)",
   "language": "python",
   "name": "python3"
  },
  "language_info": {
   "codemirror_mode": {
    "name": "ipython",
    "version": 3
   },
   "file_extension": ".py",
   "mimetype": "text/x-python",
   "name": "python",
   "nbconvert_exporter": "python",
   "pygments_lexer": "ipython3",
   "version": "3.10.7"
  }
 },
 "nbformat": 4,
 "nbformat_minor": 5
}
