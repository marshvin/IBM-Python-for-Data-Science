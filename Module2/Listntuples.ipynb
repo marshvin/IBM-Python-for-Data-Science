{
 "cells": [
  {
   "cell_type": "code",
   "execution_count": null,
   "id": "4c68a0dc",
   "metadata": {},
   "outputs": [],
   "source": [
    "#LIST AND TUPLES"
   ]
  },
  {
   "cell_type": "code",
   "execution_count": 1,
   "id": "cb9f6190",
   "metadata": {},
   "outputs": [
    {
     "name": "stdout",
     "output_type": "stream",
     "text": [
      "80\n"
     ]
    }
   ],
   "source": [
    "#Accessing tuples\n",
    "tuple1=('dance',80,3.9)\n",
    "print(tuple1[1])\n",
    "print(tuple1[-2])"
   ]
  },
  {
   "cell_type": "code",
   "execution_count": 8,
   "id": "5611a4af",
   "metadata": {},
   "outputs": [
    {
     "name": "stdout",
     "output_type": "stream",
     "text": [
      "timezone\n"
     ]
    }
   ],
   "source": [
    "#Manipulating tuples\n",
    "tuple1=(\"time\",3,1)\n",
    "tuple2= ('zone',5)\n",
    "print(tuple1[0]+ tuple2[0])"
   ]
  },
  {
   "cell_type": "code",
   "execution_count": 12,
   "id": "0f11a234",
   "metadata": {},
   "outputs": [
    {
     "name": "stdout",
     "output_type": "stream",
     "text": [
      "('Rock', 254)\n",
      "254\n"
     ]
    }
   ],
   "source": [
    "#Nesting\n",
    "tuple1=(('Rock',254),(3,4),('New','Things'))\n",
    "print(tuple1[0])\n",
    "print(tuple1[0][1])"
   ]
  },
  {
   "cell_type": "code",
   "execution_count": null,
   "id": "ea1ddddf",
   "metadata": {},
   "outputs": [],
   "source": [
    "#Tuples are immutable which means they cannot be changed"
   ]
  },
  {
   "cell_type": "code",
   "execution_count": 13,
   "id": "92bbbb6e",
   "metadata": {},
   "outputs": [
    {
     "name": "stdout",
     "output_type": "stream",
     "text": [
      "4.9\n"
     ]
    }
   ],
   "source": [
    "#Accessing lists\n",
    "list1=['James Bond',350,4.9]\n",
    "print(list1[2])"
   ]
  },
  {
   "cell_type": "code",
   "execution_count": 15,
   "id": "a0a78c12",
   "metadata": {},
   "outputs": [
    {
     "name": "stdout",
     "output_type": "stream",
     "text": [
      "['James Bond', 350, 4.9, 'Luke Thomas']\n",
      "5\n"
     ]
    }
   ],
   "source": [
    "#Manipulating list by concatinating\n",
    "#extend() adds the exact number of elements\n",
    "list1=['James Bond',350,4.9]\n",
    "list1.extend(['Luke Thomas',250])\n",
    "print(list1[0:4])\n",
    "print(len(list1))"
   ]
  },
  {
   "cell_type": "code",
   "execution_count": 16,
   "id": "3d6df814",
   "metadata": {},
   "outputs": [
    {
     "name": "stdout",
     "output_type": "stream",
     "text": [
      "['James Bond', 350, 4.9, ['Luke Thomas', 250]]\n",
      "4\n"
     ]
    }
   ],
   "source": [
    "#append adds one element\n",
    "list1=['James Bond',350,4.9]\n",
    "list1.append(['Luke Thomas',250])\n",
    "print(list1[0:4])\n",
    "print(len(list1))"
   ]
  },
  {
   "cell_type": "code",
   "execution_count": 17,
   "id": "0e7f02ef",
   "metadata": {},
   "outputs": [
    {
     "name": "stdout",
     "output_type": "stream",
     "text": [
      "[['Movie'], 350, 4.9]\n"
     ]
    }
   ],
   "source": [
    "#List are mutable\n",
    "#Adding new element\n",
    "list1=['James Bond',350,4.9]\n",
    "list1[0]=['Movie']\n",
    "print(list1[0:4])"
   ]
  },
  {
   "cell_type": "code",
   "execution_count": 20,
   "id": "684c87b8",
   "metadata": {},
   "outputs": [
    {
     "name": "stdout",
     "output_type": "stream",
     "text": [
      "[350, 4.9]\n"
     ]
    }
   ],
   "source": [
    "#List are mutable\n",
    "#Deleting new element\n",
    "list1=['James Bond',350,4.9]\n",
    "del(list1[0])\n",
    "print(list1[0:4])"
   ]
  },
  {
   "cell_type": "code",
   "execution_count": 22,
   "id": "e9c253cb",
   "metadata": {},
   "outputs": [
    {
     "name": "stdout",
     "output_type": "stream",
     "text": [
      "['James Bond', 350, 4.9]\n",
      "['James', 'Bond']\n"
     ]
    }
   ],
   "source": [
    "#List are mutable\n",
    "#Spliting an element\n",
    "list1=['James Bond',350,4.9]\n",
    "x='James Bond'.split()\n",
    "print(list1[0:4])\n",
    "print(x)"
   ]
  },
  {
   "cell_type": "code",
   "execution_count": 23,
   "id": "5e0561e7",
   "metadata": {},
   "outputs": [
    {
     "name": "stdout",
     "output_type": "stream",
     "text": [
      "['James Bond', 350, 4.9]\n"
     ]
    }
   ],
   "source": [
    "#Cloning\n",
    "list1=['James Bond',350,4.9]\n",
    "A=list1[:]\n",
    "print(A)\n"
   ]
  }
 ],
 "metadata": {
  "kernelspec": {
   "display_name": "Python 3 (ipykernel)",
   "language": "python",
   "name": "python3"
  },
  "language_info": {
   "codemirror_mode": {
    "name": "ipython",
    "version": 3
   },
   "file_extension": ".py",
   "mimetype": "text/x-python",
   "name": "python",
   "nbconvert_exporter": "python",
   "pygments_lexer": "ipython3",
   "version": "3.10.7"
  }
 },
 "nbformat": 4,
 "nbformat_minor": 5
}
