{
 "cells": [
  {
   "cell_type": "code",
   "execution_count": 7,
   "id": "b5e1228c",
   "metadata": {},
   "outputs": [
    {
     "name": "stdout",
     "output_type": "stream",
     "text": [
      "{'key1': 5, 'key3': 'girl', 'key4': [5, 8, 9], 'key5': ('hostes', 5)}\n"
     ]
    }
   ],
   "source": [
    "#Dictionaries\n",
    "A={\"key1\":5,\"key3\":'girl',\"key4\":[5,8,9],\"key5\":('hostes',5)}\n",
    "print(A)"
   ]
  },
  {
   "cell_type": "code",
   "execution_count": 8,
   "id": "32eacf82",
   "metadata": {},
   "outputs": [
    {
     "name": "stdout",
     "output_type": "stream",
     "text": [
      "5\n"
     ]
    }
   ],
   "source": [
    "#Print a single key\n",
    "A={\"key1\":5,\"key3\":'girl',\"key4\":[5,8,9],\"key5\":('hostes',5)}\n",
    "print(A[\"key1\"])"
   ]
  },
  {
   "cell_type": "code",
   "execution_count": 9,
   "id": "d807d0cd",
   "metadata": {},
   "outputs": [
    {
     "name": "stdout",
     "output_type": "stream",
     "text": [
      "{'key1': 5, 'key3': 'girl', 'key4': [5, 8, 9], 'key5': ('hostes', 5), 'key6': 'Flight540'}\n"
     ]
    }
   ],
   "source": [
    "#Enter a Key with value\n",
    "A={\"key1\":5,\"key3\":'girl',\"key4\":[5,8,9],\"key5\":('hostes',5)}\n",
    "A[\"key6\"]='Flight540'\n",
    "print(A)"
   ]
  },
  {
   "cell_type": "code",
   "execution_count": 10,
   "id": "7e619830",
   "metadata": {},
   "outputs": [
    {
     "name": "stdout",
     "output_type": "stream",
     "text": [
      "{'key1': 5, 'key3': 'girl', 'key5': ('hostes', 5)}\n"
     ]
    }
   ],
   "source": [
    "#Delete a key in dictionary\n",
    "A={\"key1\":5,\"key3\":'girl',\"key4\":[5,8,9],\"key5\":('hostes',5)}\n",
    "del(A[\"key4\"])\n",
    "print(A)"
   ]
  },
  {
   "cell_type": "code",
   "execution_count": 11,
   "id": "4e02c36b",
   "metadata": {},
   "outputs": [
    {
     "name": "stdout",
     "output_type": "stream",
     "text": [
      "True\n",
      "False\n"
     ]
    }
   ],
   "source": [
    "#Check if a value is in the dictionary\n",
    "A={\"key1\":5,\"key3\":'girl',\"key4\":[5,8,9],\"key5\":('hostes',5)}\n",
    "print(\"key5\" in A)\n",
    "print(\"key8\" in A)"
   ]
  },
  {
   "cell_type": "code",
   "execution_count": 12,
   "id": "a22757d9",
   "metadata": {},
   "outputs": [
    {
     "name": "stdout",
     "output_type": "stream",
     "text": [
      "dict_keys(['key1', 'key3', 'key4', 'key5'])\n"
     ]
    }
   ],
   "source": [
    "#print the keys in the dictionary\n",
    "A={\"key1\":5,\"key3\":'girl',\"key4\":[5,8,9],\"key5\":('hostes',5)}\n",
    "print(A.keys())"
   ]
  },
  {
   "cell_type": "code",
   "execution_count": null,
   "id": "7233e3bc",
   "metadata": {},
   "outputs": [],
   "source": [
    "#print the values in the dictionary\n",
    "A={\"key1\":5,\"key3\":'girl',\"key4\":[5,8,9],\"key5\":('hostes',5)}\n",
    "print(A.values())"
   ]
  }
 ],
 "metadata": {
  "kernelspec": {
   "display_name": "Python 3 (ipykernel)",
   "language": "python",
   "name": "python3"
  },
  "language_info": {
   "codemirror_mode": {
    "name": "ipython",
    "version": 3
   },
   "file_extension": ".py",
   "mimetype": "text/x-python",
   "name": "python",
   "nbconvert_exporter": "python",
   "pygments_lexer": "ipython3",
   "version": "3.10.7"
  }
 },
 "nbformat": 4,
 "nbformat_minor": 5
}
