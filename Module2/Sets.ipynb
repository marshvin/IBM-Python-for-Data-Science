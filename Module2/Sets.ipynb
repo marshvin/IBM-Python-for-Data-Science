{
 "cells": [
  {
   "cell_type": "code",
   "execution_count": null,
   "id": "2c01b8ef",
   "metadata": {},
   "outputs": [],
   "source": [
    "#Sets are unorderd: They do not have positions for elements"
   ]
  },
  {
   "cell_type": "code",
   "execution_count": 6,
   "id": "da2db39c",
   "metadata": {},
   "outputs": [
    {
     "name": "stdout",
     "output_type": "stream",
     "text": [
      "{'Acquaman', 2018, 7.8, 'Jason'}\n"
     ]
    }
   ],
   "source": [
    "#Type casting- List to Sets\n",
    "movie=['Acquaman','Jason',2018,7.8]\n",
    "movie_set=set(movie)\n",
    "print(movie_set)"
   ]
  },
  {
   "cell_type": "code",
   "execution_count": 8,
   "id": "06860579",
   "metadata": {},
   "outputs": [
    {
     "name": "stdout",
     "output_type": "stream",
     "text": [
      "{'Mango', 'Apple', 'Orange', 'Banana', 'Avocado'}\n"
     ]
    }
   ],
   "source": [
    "#Set operations add()\n",
    "setA ={'Banana', 'Orange','Mango'}\n",
    "setA.add('Apple')\n",
    "setA.add('Avocado')\n",
    "print(setA)"
   ]
  },
  {
   "cell_type": "code",
   "execution_count": 11,
   "id": "4388cded",
   "metadata": {},
   "outputs": [
    {
     "name": "stdout",
     "output_type": "stream",
     "text": [
      "{'Orange', 'Mango'}\n"
     ]
    }
   ],
   "source": [
    "#Set operations remove() an element\n",
    "setA ={'Banana', 'Orange','Mango'}\n",
    "setA.remove('Banana')\n",
    "print(setA)"
   ]
  },
  {
   "cell_type": "code",
   "execution_count": 13,
   "id": "b31d750b",
   "metadata": {},
   "outputs": [
    {
     "name": "stdout",
     "output_type": "stream",
     "text": [
      "True\n",
      "False\n"
     ]
    }
   ],
   "source": [
    "#Set operations in- look for an element\n",
    "setA ={'Banana', 'Orange','Mango'}\n",
    "print('Mango' in setA)\n",
    "print('Blueberry' in setA)"
   ]
  },
  {
   "cell_type": "code",
   "execution_count": 14,
   "id": "186a322c",
   "metadata": {},
   "outputs": [
    {
     "name": "stdout",
     "output_type": "stream",
     "text": [
      "{300, 'Kales'}\n"
     ]
    }
   ],
   "source": [
    "#Set operations ampersand\n",
    "setA={'Onions','Tomatoes','Kales',300}\n",
    "setB={'Kales','Leomon',300,}\n",
    "setC=setA & setB\n",
    "print(setC)"
   ]
  },
  {
   "cell_type": "code",
   "execution_count": 15,
   "id": "5b892006",
   "metadata": {},
   "outputs": [
    {
     "name": "stdout",
     "output_type": "stream",
     "text": [
      "{'Tomatoes', 'Kales', 'Leomon', 'Onions', 300}\n"
     ]
    }
   ],
   "source": [
    "#Set operations Union of sets\n",
    "setA={'Onions','Tomatoes','Kales',300}\n",
    "setB={'Kales','Leomon',300,}\n",
    "setC=setA.union(setB)\n",
    "print(setC)"
   ]
  },
  {
   "cell_type": "code",
   "execution_count": 16,
   "id": "a5f795cb",
   "metadata": {},
   "outputs": [
    {
     "name": "stdout",
     "output_type": "stream",
     "text": [
      "True\n"
     ]
    }
   ],
   "source": [
    "#Set operations check if it is a subset\n",
    "setA={'Onions','Tomatoes','Kales',300}\n",
    "setB={'Kales',300}\n",
    "print(setB.issubset(setA))"
   ]
  }
 ],
 "metadata": {
  "kernelspec": {
   "display_name": "Python 3 (ipykernel)",
   "language": "python",
   "name": "python3"
  },
  "language_info": {
   "codemirror_mode": {
    "name": "ipython",
    "version": 3
   },
   "file_extension": ".py",
   "mimetype": "text/x-python",
   "name": "python",
   "nbconvert_exporter": "python",
   "pygments_lexer": "ipython3",
   "version": "3.10.7"
  }
 },
 "nbformat": 4,
 "nbformat_minor": 5
}
