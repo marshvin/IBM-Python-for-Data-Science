{
 "cells": [
  {
   "cell_type": "code",
   "execution_count": 9,
   "id": "a195dcff",
   "metadata": {},
   "outputs": [
    {
     "name": "stdout",
     "output_type": "stream",
     "text": [
      "i\n",
      "Vincent \n",
      "VnetMrh\n",
      "VnetM\n"
     ]
    }
   ],
   "source": [
    "Name= \"Vincent Marsh\"\n",
    "#Accessing the string in different ways\n",
    "print(Name[1])\n",
    "print(Name[0:8])\n",
    "print(Name[::2])\n",
    "print(Name[0:10:2])\n"
   ]
  },
  {
   "cell_type": "code",
   "execution_count": 7,
   "id": "ef94d110",
   "metadata": {},
   "outputs": [
    {
     "name": "stdout",
     "output_type": "stream",
     "text": [
      "My Name is Vincent Marsh\n"
     ]
    }
   ],
   "source": [
    "Name='Vincent Marsh'\n",
    "#Manipulating Stings\n",
    "Statement= 'My Name is'\n",
    "x= Statement +\" \"+ Name\n",
    "print(x)"
   ]
  },
  {
   "cell_type": "code",
   "execution_count": 11,
   "id": "a691226e",
   "metadata": {},
   "outputs": [
    {
     "name": "stdout",
     "output_type": "stream",
     "text": [
      "VINCENT MARSH\n",
      "Kennedy Marsh\n"
     ]
    }
   ],
   "source": [
    "#Methods\n",
    "Name='Vincent Marsh'\n",
    "#Make string Capital\n",
    "B= Name.upper()\n",
    "print(B)\n",
    "# Replace part of a string\n",
    "Name='Vincent Marsh'\n",
    "B=Name.replace('Vincent', 'Kennedy')\n",
    "print(B)"
   ]
  },
  {
   "cell_type": "code",
   "execution_count": 12,
   "id": "e6dbe87c",
   "metadata": {},
   "outputs": [
    {
     "name": "stdout",
     "output_type": "stream",
     "text": [
      "9\n"
     ]
    }
   ],
   "source": [
    "#Finding a string\n",
    "Name='Vincent Marsh'\n",
    "x= Name.find('ar')\n",
    "print(x)"
   ]
  }
 ],
 "metadata": {
  "kernelspec": {
   "display_name": "Python 3 (ipykernel)",
   "language": "python",
   "name": "python3"
  },
  "language_info": {
   "codemirror_mode": {
    "name": "ipython",
    "version": 3
   },
   "file_extension": ".py",
   "mimetype": "text/x-python",
   "name": "python",
   "nbconvert_exporter": "python",
   "pygments_lexer": "ipython3",
   "version": "3.10.7"
  }
 },
 "nbformat": 4,
 "nbformat_minor": 5
}
