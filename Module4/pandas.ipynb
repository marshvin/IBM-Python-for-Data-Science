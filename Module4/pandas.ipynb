{
 "cells": [
  {
   "cell_type": "code",
   "execution_count": null,
   "id": "7fb81a36",
   "metadata": {},
   "outputs": [],
   "source": [
    "#Pandas- library for data analysis\n",
    "#Dataframes\n",
    "import pandas as pd\n",
    "csv_path='file1.csv'\n",
    "df= pd.read_csv(csv_path)\n",
    "df.head()"
   ]
  },
  {
   "cell_type": "code",
   "execution_count": null,
   "id": "c59d00ec",
   "metadata": {},
   "outputs": [],
   "source": [
    "#Loarding excel file\n",
    "xlsx_path-'file1.xlsx'\n",
    "df= pd.read_excel(xlsx_path)\n",
    "df.head()"
   ]
  },
  {
   "cell_type": "code",
   "execution_count": null,
   "id": "2c0fc7d8",
   "metadata": {},
   "outputs": [],
   "source": [
    "#Creating Dataframe using dictionaries\n",
    "import pandas as pd\n",
    "Movie={'Title':['Thriller','Comedy','Drama','Romance'],\n",
    "'Number':[1000,5000,4000,3000],\n",
    "'Ratings':[4,5.5,5,5]\n",
    "}\n",
    "movie_frame=pd.Dataframe(Movie)\n",
    "\"\"\"\n",
    "Keys correspond to the table heads\n",
    "Values corespond to the rows\n",
    "\"\"\""
   ]
  },
  {
   "cell_type": "code",
   "execution_count": null,
   "id": "e7efe790",
   "metadata": {},
   "outputs": [],
   "source": [
    " #new dataframe consisting of one column.\n",
    "import pandas as pd\n",
    "Movie={'Title':['Thriller','Comedy','Drama','Romance'],\n",
    "'Number':[1000,5000,4000,3000],\n",
    "'Ratings':[4,5.5,5,5]\n",
    "}\n",
    "movie_frame=pd.Dataframe(Movie)\n",
    "y=Movie[['Actor','Lenght','Views']]"
   ]
  },
  {
   "cell_type": "code",
   "execution_count": null,
   "metadata": {},
   "outputs": [],
   "source": [
    "#One way to access unique elements is the ix\n",
    "import pandas as pd\n",
    "Movie={'Title':['Thriller','Comedy','Drama','Romance'],\n",
    "'Number':[1000,5000,4000,3000],\n",
    "'Ratings':[4,5.5,5,5]\n",
    "}\n",
    "movie_frame=pd.Dataframe(Movie)\n",
    "print(Movie.ix[1,1])"
   ]
  }
 ],
 "metadata": {
  "kernelspec": {
   "display_name": "Python 3.10.7 64-bit",
   "language": "python",
   "name": "python3"
  },
  "language_info": {
   "codemirror_mode": {
    "name": "ipython",
    "version": 3
   },
   "file_extension": ".py",
   "mimetype": "text/x-python",
   "name": "python",
   "nbconvert_exporter": "python",
   "pygments_lexer": "ipython3",
   "version": "3.10.7"
  },
  "vscode": {
   "interpreter": {
    "hash": "81794d4967e6c3204c66dcd87b604927b115b27c00565d3d43f05ba2f3a2cb0d"
   }
  }
 },
 "nbformat": 4,
 "nbformat_minor": 5
}
