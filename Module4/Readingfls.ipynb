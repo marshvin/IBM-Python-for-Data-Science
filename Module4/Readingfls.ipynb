{
 "cells": [
  {
   "cell_type": "code",
   "execution_count": null,
   "id": "1dfa65a4",
   "metadata": {},
   "outputs": [],
   "source": [
    "#Opening files with pyhton\n",
    "File1=open(\"/resources/data/Example.txt\",\"W\")\n",
    "file_stuff= File1.read()\n",
    "print(file_stuff)"
   ]
  },
  {
   "cell_type": "code",
   "execution_count": null,
   "id": "40ff04bc",
   "metadata": {},
   "outputs": [],
   "source": [
    "with open(\"Example.txt\",\"r\") as File1:\n",
    "    file_stuff= File1.read()\n",
    "    file_stuff2=File1.mode()\n",
    "    print(file_stuff)\n",
    "print(File1.closed) #check if the file is closed\n"
   ]
  },
  {
   "cell_type": "code",
   "execution_count": null,
   "id": "12998489",
   "metadata": {},
   "outputs": [],
   "source": []
  }
 ],
 "metadata": {
  "kernelspec": {
   "display_name": "Python 3.10.7 64-bit",
   "language": "python",
   "name": "python3"
  },
  "language_info": {
   "codemirror_mode": {
    "name": "ipython",
    "version": 3
   },
   "file_extension": ".py",
   "mimetype": "text/x-python",
   "name": "python",
   "nbconvert_exporter": "python",
   "pygments_lexer": "ipython3",
   "version": "3.10.7"
  },
  "vscode": {
   "interpreter": {
    "hash": "81794d4967e6c3204c66dcd87b604927b115b27c00565d3d43f05ba2f3a2cb0d"
   }
  }
 },
 "nbformat": 4,
 "nbformat_minor": 5
}
