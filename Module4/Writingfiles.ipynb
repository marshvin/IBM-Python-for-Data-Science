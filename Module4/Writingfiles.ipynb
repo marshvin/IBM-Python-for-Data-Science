{
 "cells": [
  {
   "cell_type": "code",
   "execution_count": null,
   "id": "80a053ff",
   "metadata": {},
   "outputs": [],
   "source": [
    "#writing files with open\n",
    "File1=open(\"/resources/data/Example1.txt\",\"W\")\n",
    "File1.write(\"This is a line A\")"
   ]
  },
  {
   "cell_type": "code",
   "execution_count": null,
   "id": "d667cb58",
   "metadata": {},
   "outputs": [],
   "source": [
    "#In order to open the file and close\n",
    "with open(\"/resources/data/Example1.txt\",\"w\") as File1:\n",
    "    File1.write(\"This is line A\\n\")\n",
    "    File1.write(\"This is line B\\n\")\n",
    "print(File1)"
   ]
  },
  {
   "cell_type": "code",
   "execution_count": null,
   "id": "86c3d6ba",
   "metadata": {},
   "outputs": [],
   "source": [
    "#Write each elent in a list to a file\n",
    "Lines=[\"This is line A\\n\",\"This is line B\\n\"]\n",
    "with open(\"/resources/data/Example1.txt\",\"W\") as File1:\n",
    "    for line in Lines:\n",
    "        File1.write(line)"
   ]
  },
  {
   "cell_type": "code",
   "execution_count": null,
   "id": "fd606352",
   "metadata": {},
   "outputs": [],
   "source": [
    "#Copy one file to a new file\n",
    "Lines=[\"This is line A\\n\",\"This is line B\\n\"]\n",
    "with open(\"Example1.txt\",\"r\") as readfile:\n",
    "    with open(\"Example3.txt\",\"w\") as writefile:\n",
    "        for line in readfile:\n",
    "            writefile.write(line)\n"
   ]
  }
 ],
 "metadata": {
  "kernelspec": {
   "display_name": "Python 3.10.7 64-bit",
   "language": "python",
   "name": "python3"
  },
  "language_info": {
   "codemirror_mode": {
    "name": "ipython",
    "version": 3
   },
   "file_extension": ".py",
   "mimetype": "text/x-python",
   "name": "python",
   "nbconvert_exporter": "python",
   "pygments_lexer": "ipython3",
   "version": "3.10.7"
  },
  "vscode": {
   "interpreter": {
    "hash": "81794d4967e6c3204c66dcd87b604927b115b27c00565d3d43f05ba2f3a2cb0d"
   }
  }
 },
 "nbformat": 4,
 "nbformat_minor": 5
}
